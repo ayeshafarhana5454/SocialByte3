{
 "cells": [
  {
   "cell_type": "code",
   "execution_count": null,
   "id": "b10c896a",
   "metadata": {},
   "outputs": [],
   "source": [
    "SELECT DISTINCT Age\n",
    "FROM Student\n",
    "ORDER BY Age DESC\n",
    "LIMIT 1 OFFSET 1;\n"
   ]
  }
 ],
 "metadata": {
  "kernelspec": {
   "display_name": "Python 3 (ipykernel)",
   "language": "python",
   "name": "python3"
  },
  "language_info": {
   "codemirror_mode": {
    "name": "ipython",
    "version": 3
   },
   "file_extension": ".py",
   "mimetype": "text/x-python",
   "name": "python",
   "nbconvert_exporter": "python",
   "pygments_lexer": "ipython3",
   "version": "3.10.9"
  }
 },
 "nbformat": 4,
 "nbformat_minor": 5
}
